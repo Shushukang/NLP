{
  "nbformat": 4,
  "nbformat_minor": 0,
  "metadata": {
    "colab": {
      "provenance": [],
      "mount_file_id": "1kRByWeiK-_1-t-kMF78eE2XDBFN3_tKg",
      "authorship_tag": "ABX9TyM3g/YMSjmmDHPQDfWdqmpR",
      "include_colab_link": true
    },
    "kernelspec": {
      "name": "python3",
      "display_name": "Python 3"
    },
    "language_info": {
      "name": "python"
    }
  },
  "cells": [
    {
      "cell_type": "markdown",
      "metadata": {
        "id": "view-in-github",
        "colab_type": "text"
      },
      "source": [
        "<a href=\"https://colab.research.google.com/github/Shushukang/NLP/blob/main/%EC%8B%A4%EC%8A%B501.ipynb\" target=\"_parent\"><img src=\"https://colab.research.google.com/assets/colab-badge.svg\" alt=\"Open In Colab\"/></a>"
      ]
    },
    {
      "cell_type": "markdown",
      "source": [
        "# numpy 정리"
      ],
      "metadata": {
        "id": "mM_loK_ikAxB"
      }
    },
    {
      "cell_type": "markdown",
      "source": [
        "## 넘파이 배열 생성"
      ],
      "metadata": {
        "id": "X8f6e6ySkOqo"
      }
    },
    {
      "cell_type": "code",
      "execution_count": null,
      "metadata": {
        "id": "8r9lSrQDUjSb"
      },
      "outputs": [],
      "source": [
        "# 필요한 라이브러리 임폴트\n",
        "import numpy as np"
      ]
    },
    {
      "cell_type": "code",
      "source": [
        "# 데이터 → 파이썬 리스트 자료형으로 저장\n",
        "list_data1 = [1, 2, 3]\n",
        "list_data2 = [4, 5, 6]\n",
        "print(f'첫 번째로 생성된 리스트 자료형 데이터 : {list_data1}')\n",
        "\n",
        "print('-'*80)\n",
        "\n",
        "# 파이썬 리스트 자료형 덧셈 연산 실행 → 리스트의 연결(extenssion:확장의 개념)\n",
        "result = list_data1 + list_data2\n",
        "print(f'파이썬 자료형 데이터에 대한 덧셈 연산의 결과 : \\n{result}')\n",
        "\n",
        "print('-'*80)\n",
        "\n",
        "# 파이썬 리스트 자료형 → 넘파이 배열로 변환\n",
        "arr1 = np.array(list_data1)\n",
        "arr2 = np.array(list_data2)\n",
        "print(f'첫 번째로 생성된 넘파이 배열 데이터 : {arr1}')\n",
        "\n",
        "print('-'*80)\n",
        "\n",
        "# 넘파이 배열 덧셈 연산 실행\n",
        "result = arr1 + arr2\n",
        "print(f'넘파이 자료형 데이터에 대한 덧셈 연산의 결과 : {result}')"
      ],
      "metadata": {
        "colab": {
          "base_uri": "https://localhost:8080/"
        },
        "id": "RH9HUQ8Bkn3n",
        "outputId": "cd8053d9-1471-46b6-ae17-bdf9a882751a"
      },
      "execution_count": null,
      "outputs": [
        {
          "output_type": "stream",
          "name": "stdout",
          "text": [
            "첫 번째로 생성된 리스트 자료형 데이터 : [1, 2, 3]\n",
            "--------------------------------------------------------------------------------\n",
            "파이썬 자료형 데이터에 대한 덧셈 연산의 결과 : \n",
            "[1, 2, 3, 4, 5, 6]\n",
            "--------------------------------------------------------------------------------\n",
            "첫 번째로 생성된 넘파이 배열 데이터 : [1 2 3]\n",
            "--------------------------------------------------------------------------------\n",
            "넘파이 자료형 데이터에 대한 덧셈 연산의 결과 : [5 7 9]\n"
          ]
        }
      ]
    },
    {
      "cell_type": "code",
      "source": [
        "### np.arange(start, stop, step) : 연속적으로 증가하거나 감소하는 배열 생성\n",
        "arr = np.arange(start=1, stop=15, step=2)\n",
        "print(f'생성된 배열 : {arr}')"
      ],
      "metadata": {
        "colab": {
          "base_uri": "https://localhost:8080/"
        },
        "id": "mKU780OvsMyc",
        "outputId": "f8ce514d-bc57-43f7-966a-2ae34b45acd2"
      },
      "execution_count": null,
      "outputs": [
        {
          "output_type": "stream",
          "name": "stdout",
          "text": [
            "생성된 배열 : [ 1  3  5  7  9 11 13]\n"
          ]
        }
      ]
    },
    {
      "cell_type": "markdown",
      "source": [
        "## reshape()"
      ],
      "metadata": {
        "id": "Mbb6iJyZ4ypg"
      }
    },
    {
      "cell_type": "code",
      "source": [
        "# 구조 변경 전 데이터 생성\n",
        "arr1 = np.arange(0, 24, 1)\n",
        "print(f'1차원 배열 생성 : \\n{arr1}')\n",
        "\n",
        "print('-'*80)\n",
        "\n",
        "# 1차원 배열 → 2차원 배열로 변환 → 모양 (4,6)\n",
        "arr2 = arr1.reshape((4,6))\n",
        "# np.reshape(arr, (4,6))\n",
        "print(f'1차원 배열을 2차원 배열로 변환한 결과 : \\n{arr2}')\n",
        "\n",
        "print('-'*80)\n",
        "\n",
        "# 1차원 배열 → 3차원 배열로 변환 → 모양 (4,3,2)\n",
        "arr3 = arr1.reshape((4, 3, 2))\n",
        "print(f'1차원 배열을 3차원 배열로 변환한 결과 : \\n{arr3}')\n",
        "\n",
        "print('-'*80)\n",
        "\n",
        "# 2차원 배열 → 3차원 배열로 변환 → 모양 (4,3,2)\n",
        "arr4 = arr2.reshape(4,3,2)\n",
        "print(f'2차원 배열을 3차원 배열로 변환한 결과 : \\n{arr4}')\n",
        "\n",
        "# 3차원 → 2차원 가능함"
      ],
      "metadata": {
        "colab": {
          "base_uri": "https://localhost:8080/"
        },
        "id": "v1x8uBzU439n",
        "outputId": "a39c3947-5779-4eff-e716-abb2e75d9e72"
      },
      "execution_count": null,
      "outputs": [
        {
          "output_type": "stream",
          "name": "stdout",
          "text": [
            "1차원 배열 생성 : \n",
            "[ 0  1  2  3  4  5  6  7  8  9 10 11 12 13 14 15 16 17 18 19 20 21 22 23]\n",
            "--------------------------------------------------------------------------------\n",
            "1차원 배열을 2차원 배열로 변환한 결과 : \n",
            "[[ 0  1  2  3  4  5]\n",
            " [ 6  7  8  9 10 11]\n",
            " [12 13 14 15 16 17]\n",
            " [18 19 20 21 22 23]]\n",
            "--------------------------------------------------------------------------------\n",
            "1차원 배열을 3차원 배열로 변환한 결과 : \n",
            "[[[ 0  1]\n",
            "  [ 2  3]\n",
            "  [ 4  5]]\n",
            "\n",
            " [[ 6  7]\n",
            "  [ 8  9]\n",
            "  [10 11]]\n",
            "\n",
            " [[12 13]\n",
            "  [14 15]\n",
            "  [16 17]]\n",
            "\n",
            " [[18 19]\n",
            "  [20 21]\n",
            "  [22 23]]]\n",
            "--------------------------------------------------------------------------------\n",
            "2차원 배열을 3차원 배열로 변환한 결과 : \n",
            "[[[ 0  1]\n",
            "  [ 2  3]\n",
            "  [ 4  5]]\n",
            "\n",
            " [[ 6  7]\n",
            "  [ 8  9]\n",
            "  [10 11]]\n",
            "\n",
            " [[12 13]\n",
            "  [14 15]\n",
            "  [16 17]]\n",
            "\n",
            " [[18 19]\n",
            "  [20 21]\n",
            "  [22 23]]]\n"
          ]
        }
      ]
    },
    {
      "cell_type": "markdown",
      "source": [
        "## 인덱싱"
      ],
      "metadata": {
        "id": "6RPlsFKyaXYC"
      }
    },
    {
      "cell_type": "code",
      "source": [
        "### pyton list 자료형 데이터 → 인덱싱\n",
        "list_data = [[1,2,3],[4,5,6]]\n",
        "print(f'리스트 자료형 데이터 확인 : \\n{list_data}')\n",
        "\n",
        "print('-'*80)\n",
        "\n",
        "# 숫자 1 추출\n",
        "'''\n",
        "# 파이썬 리스트 자료형 (구조 X)\n",
        "1. 단계적으로 인덱싱\n",
        "2. 첫 번째 성분 원소 인덱싱 → 첫 번째 성분 원소의 첫 번째 성분 원소\n",
        "'''\n",
        "result = list_data[0][0]\n",
        "print(f'숫자 1을 인덱싱한 결과 : {result}')"
      ],
      "metadata": {
        "colab": {
          "base_uri": "https://localhost:8080/"
        },
        "id": "jRjoTfpuaaQS",
        "outputId": "535cda47-a160-4837-986e-077dc4b91529"
      },
      "execution_count": null,
      "outputs": [
        {
          "output_type": "stream",
          "name": "stdout",
          "text": [
            "리스트 자료형 데이터 확인 : \n",
            "[[1, 2, 3], [4, 5, 6]]\n",
            "--------------------------------------------------------------------------------\n",
            "숫자 1을 인덱싱한 결과 : 1\n"
          ]
        }
      ]
    },
    {
      "cell_type": "code",
      "source": [
        "### 2차원 넘파이 배열 → 인덱싱\n",
        "\n",
        "# 파이썬 리스트 자료형 데이터 → 2차원 배열로 변환\n",
        "arr = np.array(list_data)\n",
        "print(f'넘파이 배열로 변환된 결과 확인 : \\n{arr}')\n",
        "\n",
        "print('-'*80)\n",
        "\n",
        "# 숫자 1 추출 → 구조 이용(행, 열, 깊이)\n",
        "# arr[row index, col index]\n",
        "result = arr[0, 0]\n",
        "# result = arr[0][0] 도 가능\n",
        "print(f'숫자 1을 인덱싱한 결과 : {result}')"
      ],
      "metadata": {
        "colab": {
          "base_uri": "https://localhost:8080/"
        },
        "id": "i59f3RAsb5J6",
        "outputId": "6846dd4f-1a7b-41fd-9b3d-a970bfd50b3a"
      },
      "execution_count": null,
      "outputs": [
        {
          "output_type": "stream",
          "name": "stdout",
          "text": [
            "넘파이 배열로 변환된 결과 확인 : \n",
            "[[1 2 3]\n",
            " [4 5 6]]\n",
            "--------------------------------------------------------------------------------\n",
            "숫자 1을 인덱싱한 결과 : 1\n"
          ]
        }
      ]
    },
    {
      "cell_type": "code",
      "source": [
        "### 3차원 넘파이 배열 생성 → 인덱싱\n",
        "\n",
        "# 모양(10, 10, 3) 설정 : 이미지의 구조 모방\n",
        "arr1 = np.arange(300).reshape((10,10,3))\n",
        "print(f'3차원 배열 확인 : \\n{arr1}')\n",
        "\n",
        "print('-'*80)\n",
        "\n",
        "# 인덱싱 → 행 : 전체, 열 : 전체, 깊이 : 0번\n",
        "arr2 = arr1[:,:,0]\n",
        "# arr2 = arr[:][:][0]\n",
        "print(f'0번 깊이를 인덱싱한 결과 : \\n{result}')"
      ],
      "metadata": {
        "colab": {
          "base_uri": "https://localhost:8080/"
        },
        "collapsed": true,
        "id": "_wIbHkO5crNg",
        "outputId": "c29d36df-f930-4202-ced7-1a6fe641b9f4"
      },
      "execution_count": null,
      "outputs": [
        {
          "output_type": "stream",
          "name": "stdout",
          "text": [
            "3차원 배열 확인 : \n",
            "[[[  0   1   2]\n",
            "  [  3   4   5]\n",
            "  [  6   7   8]\n",
            "  [  9  10  11]\n",
            "  [ 12  13  14]\n",
            "  [ 15  16  17]\n",
            "  [ 18  19  20]\n",
            "  [ 21  22  23]\n",
            "  [ 24  25  26]\n",
            "  [ 27  28  29]]\n",
            "\n",
            " [[ 30  31  32]\n",
            "  [ 33  34  35]\n",
            "  [ 36  37  38]\n",
            "  [ 39  40  41]\n",
            "  [ 42  43  44]\n",
            "  [ 45  46  47]\n",
            "  [ 48  49  50]\n",
            "  [ 51  52  53]\n",
            "  [ 54  55  56]\n",
            "  [ 57  58  59]]\n",
            "\n",
            " [[ 60  61  62]\n",
            "  [ 63  64  65]\n",
            "  [ 66  67  68]\n",
            "  [ 69  70  71]\n",
            "  [ 72  73  74]\n",
            "  [ 75  76  77]\n",
            "  [ 78  79  80]\n",
            "  [ 81  82  83]\n",
            "  [ 84  85  86]\n",
            "  [ 87  88  89]]\n",
            "\n",
            " [[ 90  91  92]\n",
            "  [ 93  94  95]\n",
            "  [ 96  97  98]\n",
            "  [ 99 100 101]\n",
            "  [102 103 104]\n",
            "  [105 106 107]\n",
            "  [108 109 110]\n",
            "  [111 112 113]\n",
            "  [114 115 116]\n",
            "  [117 118 119]]\n",
            "\n",
            " [[120 121 122]\n",
            "  [123 124 125]\n",
            "  [126 127 128]\n",
            "  [129 130 131]\n",
            "  [132 133 134]\n",
            "  [135 136 137]\n",
            "  [138 139 140]\n",
            "  [141 142 143]\n",
            "  [144 145 146]\n",
            "  [147 148 149]]\n",
            "\n",
            " [[150 151 152]\n",
            "  [153 154 155]\n",
            "  [156 157 158]\n",
            "  [159 160 161]\n",
            "  [162 163 164]\n",
            "  [165 166 167]\n",
            "  [168 169 170]\n",
            "  [171 172 173]\n",
            "  [174 175 176]\n",
            "  [177 178 179]]\n",
            "\n",
            " [[180 181 182]\n",
            "  [183 184 185]\n",
            "  [186 187 188]\n",
            "  [189 190 191]\n",
            "  [192 193 194]\n",
            "  [195 196 197]\n",
            "  [198 199 200]\n",
            "  [201 202 203]\n",
            "  [204 205 206]\n",
            "  [207 208 209]]\n",
            "\n",
            " [[210 211 212]\n",
            "  [213 214 215]\n",
            "  [216 217 218]\n",
            "  [219 220 221]\n",
            "  [222 223 224]\n",
            "  [225 226 227]\n",
            "  [228 229 230]\n",
            "  [231 232 233]\n",
            "  [234 235 236]\n",
            "  [237 238 239]]\n",
            "\n",
            " [[240 241 242]\n",
            "  [243 244 245]\n",
            "  [246 247 248]\n",
            "  [249 250 251]\n",
            "  [252 253 254]\n",
            "  [255 256 257]\n",
            "  [258 259 260]\n",
            "  [261 262 263]\n",
            "  [264 265 266]\n",
            "  [267 268 269]]\n",
            "\n",
            " [[270 271 272]\n",
            "  [273 274 275]\n",
            "  [276 277 278]\n",
            "  [279 280 281]\n",
            "  [282 283 284]\n",
            "  [285 286 287]\n",
            "  [288 289 290]\n",
            "  [291 292 293]\n",
            "  [294 295 296]\n",
            "  [297 298 299]]]\n",
            "--------------------------------------------------------------------------------\n",
            "0번 깊이를 인덱싱한 결과 : \n",
            "[[  0   3   6   9  12  15  18  21  24  27]\n",
            " [ 30  33  36  39  42  45  48  51  54  57]\n",
            " [ 60  63  66  69  72  75  78  81  84  87]\n",
            " [ 90  93  96  99 102 105 108 111 114 117]\n",
            " [120 123 126 129 132 135 138 141 144 147]\n",
            " [150 153 156 159 162 165 168 171 174 177]\n",
            " [180 183 186 189 192 195 198 201 204 207]\n",
            " [210 213 216 219 222 225 228 231 234 237]\n",
            " [240 243 246 249 252 255 258 261 264 267]\n",
            " [270 273 276 279 282 285 288 291 294 297]]\n"
          ]
        }
      ]
    },
    {
      "cell_type": "markdown",
      "source": [
        "## 슬라이싱"
      ],
      "metadata": {
        "id": "Za1ygMaEh5HU"
      }
    },
    {
      "cell_type": "code",
      "source": [
        "### 슬라이싱을 이용한 복사(copy)\n",
        "\n",
        "# 3차원 배열 생성\n",
        "arr1 = np.arange(300).reshape((10,10,3))\n",
        "print(f'3차원 배열 확인 : \\n{arr1}')\n",
        "\n",
        "print('-'*80)\n",
        "\n",
        "# 3차원 배열 복사\n",
        "arr2 = arr1[:,:,:]\n",
        "print(f'3차원 배열을 복사한 결과 : \\n{arr2}')\n",
        "\n",
        "print('-'*80)\n",
        "\n",
        "# 복사에 대한 검증 → arr1과 arr2의 크기 비교\n",
        "print(arr1 == arr2)"
      ],
      "metadata": {
        "colab": {
          "base_uri": "https://localhost:8080/"
        },
        "collapsed": true,
        "id": "xsk3XpbbiDOS",
        "outputId": "6d7184b8-9cfc-4d63-8960-26376b209f76"
      },
      "execution_count": null,
      "outputs": [
        {
          "output_type": "stream",
          "name": "stdout",
          "text": [
            "3차원 배열 확인 : \n",
            "[[[  0   1   2]\n",
            "  [  3   4   5]\n",
            "  [  6   7   8]\n",
            "  [  9  10  11]\n",
            "  [ 12  13  14]\n",
            "  [ 15  16  17]\n",
            "  [ 18  19  20]\n",
            "  [ 21  22  23]\n",
            "  [ 24  25  26]\n",
            "  [ 27  28  29]]\n",
            "\n",
            " [[ 30  31  32]\n",
            "  [ 33  34  35]\n",
            "  [ 36  37  38]\n",
            "  [ 39  40  41]\n",
            "  [ 42  43  44]\n",
            "  [ 45  46  47]\n",
            "  [ 48  49  50]\n",
            "  [ 51  52  53]\n",
            "  [ 54  55  56]\n",
            "  [ 57  58  59]]\n",
            "\n",
            " [[ 60  61  62]\n",
            "  [ 63  64  65]\n",
            "  [ 66  67  68]\n",
            "  [ 69  70  71]\n",
            "  [ 72  73  74]\n",
            "  [ 75  76  77]\n",
            "  [ 78  79  80]\n",
            "  [ 81  82  83]\n",
            "  [ 84  85  86]\n",
            "  [ 87  88  89]]\n",
            "\n",
            " [[ 90  91  92]\n",
            "  [ 93  94  95]\n",
            "  [ 96  97  98]\n",
            "  [ 99 100 101]\n",
            "  [102 103 104]\n",
            "  [105 106 107]\n",
            "  [108 109 110]\n",
            "  [111 112 113]\n",
            "  [114 115 116]\n",
            "  [117 118 119]]\n",
            "\n",
            " [[120 121 122]\n",
            "  [123 124 125]\n",
            "  [126 127 128]\n",
            "  [129 130 131]\n",
            "  [132 133 134]\n",
            "  [135 136 137]\n",
            "  [138 139 140]\n",
            "  [141 142 143]\n",
            "  [144 145 146]\n",
            "  [147 148 149]]\n",
            "\n",
            " [[150 151 152]\n",
            "  [153 154 155]\n",
            "  [156 157 158]\n",
            "  [159 160 161]\n",
            "  [162 163 164]\n",
            "  [165 166 167]\n",
            "  [168 169 170]\n",
            "  [171 172 173]\n",
            "  [174 175 176]\n",
            "  [177 178 179]]\n",
            "\n",
            " [[180 181 182]\n",
            "  [183 184 185]\n",
            "  [186 187 188]\n",
            "  [189 190 191]\n",
            "  [192 193 194]\n",
            "  [195 196 197]\n",
            "  [198 199 200]\n",
            "  [201 202 203]\n",
            "  [204 205 206]\n",
            "  [207 208 209]]\n",
            "\n",
            " [[210 211 212]\n",
            "  [213 214 215]\n",
            "  [216 217 218]\n",
            "  [219 220 221]\n",
            "  [222 223 224]\n",
            "  [225 226 227]\n",
            "  [228 229 230]\n",
            "  [231 232 233]\n",
            "  [234 235 236]\n",
            "  [237 238 239]]\n",
            "\n",
            " [[240 241 242]\n",
            "  [243 244 245]\n",
            "  [246 247 248]\n",
            "  [249 250 251]\n",
            "  [252 253 254]\n",
            "  [255 256 257]\n",
            "  [258 259 260]\n",
            "  [261 262 263]\n",
            "  [264 265 266]\n",
            "  [267 268 269]]\n",
            "\n",
            " [[270 271 272]\n",
            "  [273 274 275]\n",
            "  [276 277 278]\n",
            "  [279 280 281]\n",
            "  [282 283 284]\n",
            "  [285 286 287]\n",
            "  [288 289 290]\n",
            "  [291 292 293]\n",
            "  [294 295 296]\n",
            "  [297 298 299]]]\n",
            "--------------------------------------------------------------------------------\n",
            "3차원 배열을 복사한 결과 : \n",
            "[[[  0   1   2]\n",
            "  [  3   4   5]\n",
            "  [  6   7   8]\n",
            "  [  9  10  11]\n",
            "  [ 12  13  14]\n",
            "  [ 15  16  17]\n",
            "  [ 18  19  20]\n",
            "  [ 21  22  23]\n",
            "  [ 24  25  26]\n",
            "  [ 27  28  29]]\n",
            "\n",
            " [[ 30  31  32]\n",
            "  [ 33  34  35]\n",
            "  [ 36  37  38]\n",
            "  [ 39  40  41]\n",
            "  [ 42  43  44]\n",
            "  [ 45  46  47]\n",
            "  [ 48  49  50]\n",
            "  [ 51  52  53]\n",
            "  [ 54  55  56]\n",
            "  [ 57  58  59]]\n",
            "\n",
            " [[ 60  61  62]\n",
            "  [ 63  64  65]\n",
            "  [ 66  67  68]\n",
            "  [ 69  70  71]\n",
            "  [ 72  73  74]\n",
            "  [ 75  76  77]\n",
            "  [ 78  79  80]\n",
            "  [ 81  82  83]\n",
            "  [ 84  85  86]\n",
            "  [ 87  88  89]]\n",
            "\n",
            " [[ 90  91  92]\n",
            "  [ 93  94  95]\n",
            "  [ 96  97  98]\n",
            "  [ 99 100 101]\n",
            "  [102 103 104]\n",
            "  [105 106 107]\n",
            "  [108 109 110]\n",
            "  [111 112 113]\n",
            "  [114 115 116]\n",
            "  [117 118 119]]\n",
            "\n",
            " [[120 121 122]\n",
            "  [123 124 125]\n",
            "  [126 127 128]\n",
            "  [129 130 131]\n",
            "  [132 133 134]\n",
            "  [135 136 137]\n",
            "  [138 139 140]\n",
            "  [141 142 143]\n",
            "  [144 145 146]\n",
            "  [147 148 149]]\n",
            "\n",
            " [[150 151 152]\n",
            "  [153 154 155]\n",
            "  [156 157 158]\n",
            "  [159 160 161]\n",
            "  [162 163 164]\n",
            "  [165 166 167]\n",
            "  [168 169 170]\n",
            "  [171 172 173]\n",
            "  [174 175 176]\n",
            "  [177 178 179]]\n",
            "\n",
            " [[180 181 182]\n",
            "  [183 184 185]\n",
            "  [186 187 188]\n",
            "  [189 190 191]\n",
            "  [192 193 194]\n",
            "  [195 196 197]\n",
            "  [198 199 200]\n",
            "  [201 202 203]\n",
            "  [204 205 206]\n",
            "  [207 208 209]]\n",
            "\n",
            " [[210 211 212]\n",
            "  [213 214 215]\n",
            "  [216 217 218]\n",
            "  [219 220 221]\n",
            "  [222 223 224]\n",
            "  [225 226 227]\n",
            "  [228 229 230]\n",
            "  [231 232 233]\n",
            "  [234 235 236]\n",
            "  [237 238 239]]\n",
            "\n",
            " [[240 241 242]\n",
            "  [243 244 245]\n",
            "  [246 247 248]\n",
            "  [249 250 251]\n",
            "  [252 253 254]\n",
            "  [255 256 257]\n",
            "  [258 259 260]\n",
            "  [261 262 263]\n",
            "  [264 265 266]\n",
            "  [267 268 269]]\n",
            "\n",
            " [[270 271 272]\n",
            "  [273 274 275]\n",
            "  [276 277 278]\n",
            "  [279 280 281]\n",
            "  [282 283 284]\n",
            "  [285 286 287]\n",
            "  [288 289 290]\n",
            "  [291 292 293]\n",
            "  [294 295 296]\n",
            "  [297 298 299]]]\n",
            "--------------------------------------------------------------------------------\n",
            "[[[ True  True  True]\n",
            "  [ True  True  True]\n",
            "  [ True  True  True]\n",
            "  [ True  True  True]\n",
            "  [ True  True  True]\n",
            "  [ True  True  True]\n",
            "  [ True  True  True]\n",
            "  [ True  True  True]\n",
            "  [ True  True  True]\n",
            "  [ True  True  True]]\n",
            "\n",
            " [[ True  True  True]\n",
            "  [ True  True  True]\n",
            "  [ True  True  True]\n",
            "  [ True  True  True]\n",
            "  [ True  True  True]\n",
            "  [ True  True  True]\n",
            "  [ True  True  True]\n",
            "  [ True  True  True]\n",
            "  [ True  True  True]\n",
            "  [ True  True  True]]\n",
            "\n",
            " [[ True  True  True]\n",
            "  [ True  True  True]\n",
            "  [ True  True  True]\n",
            "  [ True  True  True]\n",
            "  [ True  True  True]\n",
            "  [ True  True  True]\n",
            "  [ True  True  True]\n",
            "  [ True  True  True]\n",
            "  [ True  True  True]\n",
            "  [ True  True  True]]\n",
            "\n",
            " [[ True  True  True]\n",
            "  [ True  True  True]\n",
            "  [ True  True  True]\n",
            "  [ True  True  True]\n",
            "  [ True  True  True]\n",
            "  [ True  True  True]\n",
            "  [ True  True  True]\n",
            "  [ True  True  True]\n",
            "  [ True  True  True]\n",
            "  [ True  True  True]]\n",
            "\n",
            " [[ True  True  True]\n",
            "  [ True  True  True]\n",
            "  [ True  True  True]\n",
            "  [ True  True  True]\n",
            "  [ True  True  True]\n",
            "  [ True  True  True]\n",
            "  [ True  True  True]\n",
            "  [ True  True  True]\n",
            "  [ True  True  True]\n",
            "  [ True  True  True]]\n",
            "\n",
            " [[ True  True  True]\n",
            "  [ True  True  True]\n",
            "  [ True  True  True]\n",
            "  [ True  True  True]\n",
            "  [ True  True  True]\n",
            "  [ True  True  True]\n",
            "  [ True  True  True]\n",
            "  [ True  True  True]\n",
            "  [ True  True  True]\n",
            "  [ True  True  True]]\n",
            "\n",
            " [[ True  True  True]\n",
            "  [ True  True  True]\n",
            "  [ True  True  True]\n",
            "  [ True  True  True]\n",
            "  [ True  True  True]\n",
            "  [ True  True  True]\n",
            "  [ True  True  True]\n",
            "  [ True  True  True]\n",
            "  [ True  True  True]\n",
            "  [ True  True  True]]\n",
            "\n",
            " [[ True  True  True]\n",
            "  [ True  True  True]\n",
            "  [ True  True  True]\n",
            "  [ True  True  True]\n",
            "  [ True  True  True]\n",
            "  [ True  True  True]\n",
            "  [ True  True  True]\n",
            "  [ True  True  True]\n",
            "  [ True  True  True]\n",
            "  [ True  True  True]]\n",
            "\n",
            " [[ True  True  True]\n",
            "  [ True  True  True]\n",
            "  [ True  True  True]\n",
            "  [ True  True  True]\n",
            "  [ True  True  True]\n",
            "  [ True  True  True]\n",
            "  [ True  True  True]\n",
            "  [ True  True  True]\n",
            "  [ True  True  True]\n",
            "  [ True  True  True]]\n",
            "\n",
            " [[ True  True  True]\n",
            "  [ True  True  True]\n",
            "  [ True  True  True]\n",
            "  [ True  True  True]\n",
            "  [ True  True  True]\n",
            "  [ True  True  True]\n",
            "  [ True  True  True]\n",
            "  [ True  True  True]\n",
            "  [ True  True  True]\n",
            "  [ True  True  True]]]\n"
          ]
        }
      ]
    },
    {
      "cell_type": "markdown",
      "source": [
        "# pandas 정리"
      ],
      "metadata": {
        "id": "DvgBoqaYpoRz"
      }
    },
    {
      "cell_type": "code",
      "source": [
        "# 필요한 라이브러리 임폴트\n",
        "import pandas as pd"
      ],
      "metadata": {
        "id": "RIvLfphwrrsG"
      },
      "execution_count": null,
      "outputs": []
    },
    {
      "cell_type": "markdown",
      "source": [
        "## DataFrame 생성"
      ],
      "metadata": {
        "id": "hcr8RMTSptuK"
      }
    },
    {
      "cell_type": "code",
      "source": [
        "### 파이썬 dict 자료형 데이터 → DataFrame으로 변환\n",
        "\n",
        "# 파이썬 딕셔너리 자료형 데이터 생성\n",
        "pop_dict = {'2022':[9436836, 3317812, 2964820, 2365619],\n",
        "            '2015':[9904312, 3448737, 2890451, 2466052],\n",
        "            '2010':[9631482, 3393191, 2632035, 2431774]}\n",
        "\n",
        "# pd.DataFrame(data)\n",
        "df = pd.DataFrame(pop_dict)\n",
        "print(f'수집된 DataFrame 자료형 데이터 확인 : \\n{df}')"
      ],
      "metadata": {
        "colab": {
          "base_uri": "https://localhost:8080/"
        },
        "id": "94RGW26ipngF",
        "outputId": "a3e60d04-bc99-4107-ecc0-88346dcce7cc"
      },
      "execution_count": null,
      "outputs": [
        {
          "output_type": "stream",
          "name": "stdout",
          "text": [
            "수집된 DataFrame 자료형 데이터 확인 : \n",
            "      2022     2015     2010\n",
            "0  9436836  9904312  9631482\n",
            "1  3317812  3448737  3393191\n",
            "2  2964820  2890451  2632035\n",
            "3  2365619  2466052  2431774\n"
          ]
        }
      ]
    },
    {
      "cell_type": "code",
      "source": [
        "### csv 파일 → DataFrame으로 변환\n",
        "\n",
        "# 파일 경로 설정\n",
        "file_path = '/content/drive/MyDrive/딥러닝/dataframe.csv'\n",
        "\n",
        "# pd.read_csv()\n",
        "df1 = pd.read_csv(file_path)\n",
        "\n",
        "# 결과 확인하기\n",
        "print(df1)"
      ],
      "metadata": {
        "colab": {
          "base_uri": "https://localhost:8080/"
        },
        "id": "xmbTm3PNr3Yz",
        "outputId": "e8a23c66-5142-430c-8f7b-c1d478d75d83"
      },
      "execution_count": null,
      "outputs": [
        {
          "output_type": "stream",
          "name": "stdout",
          "text": [
            "                                              sentence  label\n",
            "0    본 발명은 2종 이상의 생약 추출물을 유효성분으로 포함하는, 면역력 증진용 조성물 ...      1\n",
            "1    본 발명은 타히보 추출물 및 팔각회향을 유효성분으로 포함하는 면역 증진용 조성물에 ...      1\n",
            "2    본 출원은 신규한 터키 겨우살이의 추출물, 렉틴 및 상기 추출물 또는 렉틴의 제조방...      1\n",
            "3    아로니아(Aronia) 열매 추출물, 댕댕이나무(Lonicera caerulea) ...      1\n",
            "4    본 발명의 청각 추출물 및 홍삼 추출물을 포함하는 선천성 면역 증진용 조성물에 관한...      1\n",
            "..                                                 ...    ...\n",
            "145  본 발명은 엉겅퀴(Cirsium japonicum var. ussuriense) 잎...      1\n",
            "146  본 발명은 어성초 초임계 추출물을 유효성분으로 함유하는 관절염 질환의 예방 및 치료...      1\n",
            "147  본 발명은 항염증 활성과 파골세포 억제 효과를 갖는 두충 추출물, 상기 추출물을 유...      1\n",
            "148  본 발명은 유효성분으로서 다음과 같은 진세노사이드 함량을 나타내는 홍삼 발효액을 포...      1\n",
            "149  본 발명은 전통 한의약 이론에 근거하여 한방의 복합 생약추출물에 발효기술을 이용하여...      1\n",
            "\n",
            "[150 rows x 2 columns]\n"
          ]
        }
      ]
    },
    {
      "cell_type": "code",
      "source": [
        "### tsv 파일 → DataFrame으로 변환\n",
        "\n",
        "# 파일 경로 설정\n",
        "file_path = '/content/drive/MyDrive/딥러닝/ratings_train.tsv'\n",
        "# file_path = '/content/drive/MyDrive/딥러닝/ratings_train.txt'도 가능\n",
        "# text 파일이어도 tab으로 구분되는 표 형식의 파일이라면 read_csv로 인식 가능\n",
        "# 한글 파일(알파벳이어도 영어가 아닌 언어)은 인코딩 형식이 UTF-8로 저장되어야 함 (인식이 안 될 경우 다른 이름으로 저장하기)\n",
        "\n",
        "# pd.read_csv(sep='\\t')\n",
        "df2 = pd.read_csv(file_path, sep='\\t')\n",
        "\n",
        "# 결과 확인하기\n",
        "print(df2)"
      ],
      "metadata": {
        "colab": {
          "base_uri": "https://localhost:8080/"
        },
        "id": "nifrTNAwzEb3",
        "outputId": "b37f9f22-14dd-463d-e7bf-6100892a517a"
      },
      "execution_count": null,
      "outputs": [
        {
          "output_type": "stream",
          "name": "stdout",
          "text": [
            "              id                                           document  label\n",
            "0        9976970                                아 더빙.. 진짜 짜증나네요 목소리      0\n",
            "1        3819312                  흠...포스터보고 초딩영화줄....오버연기조차 가볍지 않구나      1\n",
            "2       10265843                                  너무재밓었다그래서보는것을추천한다      0\n",
            "3        9045019                      교도소 이야기구먼 ..솔직히 재미는 없다..평점 조정      0\n",
            "4        6483659  사이몬페그의 익살스런 연기가 돋보였던 영화!스파이더맨에서 늙어보이기만 했던 커스틴 ...      1\n",
            "...          ...                                                ...    ...\n",
            "149995   6222902                                인간이 문제지.. 소는 뭔죄인가..      0\n",
            "149996   8549745                                      평점이 너무 낮아서...      1\n",
            "149997   9311800                    이게 뭐요? 한국인은 거들먹거리고 필리핀 혼혈은 착하다?      0\n",
            "149998   2376369                        청춘 영화의 최고봉.방황과 우울했던 날들의 자화상      1\n",
            "149999   9619869                           한국 영화 최초로 수간하는 내용이 담긴 영화      0\n",
            "\n",
            "[150000 rows x 3 columns]\n"
          ]
        }
      ]
    },
    {
      "cell_type": "markdown",
      "source": [
        "## DataFrame - 속성 변수"
      ],
      "metadata": {
        "id": "vzhpa5Jf4N8N"
      }
    },
    {
      "cell_type": "code",
      "source": [
        "# 컬럼 이름 → 컬럼 인덱스 추출\n",
        "info_cols = df2.columns\n",
        "print(f'컬럼 인덱스 확인 : \\n{info_cols}')\n",
        "\n",
        "print('-'*80)\n",
        "\n",
        "# 컬럼 이름 → 인덱싱 → 특정 컬럼 이름 추출\n",
        "col1 = info_cols[0]\n",
        "print(f'첫 번째 컬럼의 이름 : {col1}')\n",
        "\n",
        "print('-'*80)\n",
        "\n",
        "# 행 인덱스 추출\n",
        "info_idx = df2.index\n",
        "print(f'행 인덱스 확인 : {info_idx}')\n",
        "\n",
        "print('-'*80)\n",
        "\n",
        "# values 추출\n",
        "info_vals = df2.values\n",
        "print(f'값(데이터) 추출 : \\n{info_vals}')\n",
        "\n",
        "print('-'*80)\n",
        "\n",
        "# shape(구조, 모양) 출력\n",
        "info_shape = df2.shape\n",
        "print(f'데이터프레임의 모양(구조) 확인 : {info_shape}')\n",
        "\n",
        "print('-'*80)\n",
        "\n",
        "# size(성분 원소의 개수) 출력\n",
        "info_size = df2.size\n",
        "print(f'데이터프레임의 성분 원소 개수 확인 : {info_size}')"
      ],
      "metadata": {
        "colab": {
          "base_uri": "https://localhost:8080/"
        },
        "id": "7trM1EXm4UjX",
        "outputId": "4f02e34a-ec39-4b20-dfeb-794823c62046"
      },
      "execution_count": null,
      "outputs": [
        {
          "output_type": "stream",
          "name": "stdout",
          "text": [
            "컬럼 인덱스 확인 : \n",
            "Index(['id', 'document', 'label'], dtype='object')\n",
            "--------------------------------------------------------------------------------\n",
            "첫 번째 컬럼의 이름 : id\n",
            "--------------------------------------------------------------------------------\n",
            "행 인덱스 확인 : RangeIndex(start=0, stop=150000, step=1)\n",
            "--------------------------------------------------------------------------------\n",
            "값(데이터) 추출 : \n",
            "[[9976970 '아 더빙.. 진짜 짜증나네요 목소리' 0]\n",
            " [3819312 '흠...포스터보고 초딩영화줄....오버연기조차 가볍지 않구나' 1]\n",
            " [10265843 '너무재밓었다그래서보는것을추천한다' 0]\n",
            " ...\n",
            " [9311800 '이게 뭐요? 한국인은 거들먹거리고 필리핀 혼혈은 착하다?' 0]\n",
            " [2376369 '청춘 영화의 최고봉.방황과 우울했던 날들의 자화상' 1]\n",
            " [9619869 '한국 영화 최초로 수간하는 내용이 담긴 영화' 0]]\n",
            "--------------------------------------------------------------------------------\n",
            "데이터프레임의 모양(구조) 확인 : (150000, 3)\n",
            "--------------------------------------------------------------------------------\n",
            "데이터프레임의 성분 원소 개수 확인 : 450000\n"
          ]
        }
      ]
    },
    {
      "cell_type": "markdown",
      "source": [
        "## 인덱싱"
      ],
      "metadata": {
        "id": "-sXCClzoFUO5"
      }
    },
    {
      "cell_type": "code",
      "source": [
        "### 특정 컬럼 1개 추출 → 인덱싱\n",
        "\n",
        "# 문자열 인덱스를 이용\n",
        "result = df2.loc[:, 'document']\n",
        "print(f'특정 컬럼 1개를 인덱싱한 결과 : \\n{result}')"
      ],
      "metadata": {
        "colab": {
          "base_uri": "https://localhost:8080/"
        },
        "id": "W8LISnk3FWHY",
        "outputId": "d86eda78-8f11-4bc6-bc1f-e7bdca8d3192"
      },
      "execution_count": null,
      "outputs": [
        {
          "output_type": "stream",
          "name": "stdout",
          "text": [
            "특정 컬럼 1개를 인덱싱한 결과 : \n",
            "0                                       아 더빙.. 진짜 짜증나네요 목소리\n",
            "1                         흠...포스터보고 초딩영화줄....오버연기조차 가볍지 않구나\n",
            "2                                         너무재밓었다그래서보는것을추천한다\n",
            "3                             교도소 이야기구먼 ..솔직히 재미는 없다..평점 조정\n",
            "4         사이몬페그의 익살스런 연기가 돋보였던 영화!스파이더맨에서 늙어보이기만 했던 커스틴 ...\n",
            "                                ...                        \n",
            "149995                                  인간이 문제지.. 소는 뭔죄인가..\n",
            "149996                                        평점이 너무 낮아서...\n",
            "149997                      이게 뭐요? 한국인은 거들먹거리고 필리핀 혼혈은 착하다?\n",
            "149998                          청춘 영화의 최고봉.방황과 우울했던 날들의 자화상\n",
            "149999                             한국 영화 최초로 수간하는 내용이 담긴 영화\n",
            "Name: document, Length: 150000, dtype: object\n"
          ]
        }
      ]
    },
    {
      "cell_type": "code",
      "source": [
        "### 컬럼 1개씩 여러 개를 동시에 추출 → fancy 인덱싱\n",
        "\n",
        "# 전체 컬럼 → 'document', 'label' 컬럼 2개 인덱싱\n",
        "result = df2.loc[:, ['document', 'label']]\n",
        "print(f'fancy 인덱싱의 결과 : \\n{result}')"
      ],
      "metadata": {
        "colab": {
          "base_uri": "https://localhost:8080/"
        },
        "id": "rn623Ed0G3QA",
        "outputId": "88375388-1f43-4759-cded-66c4912d08b0"
      },
      "execution_count": null,
      "outputs": [
        {
          "output_type": "stream",
          "name": "stdout",
          "text": [
            "fancy 인덱싱의 결과 : \n",
            "                                                 document  label\n",
            "0                                     아 더빙.. 진짜 짜증나네요 목소리      0\n",
            "1                       흠...포스터보고 초딩영화줄....오버연기조차 가볍지 않구나      1\n",
            "2                                       너무재밓었다그래서보는것을추천한다      0\n",
            "3                           교도소 이야기구먼 ..솔직히 재미는 없다..평점 조정      0\n",
            "4       사이몬페그의 익살스런 연기가 돋보였던 영화!스파이더맨에서 늙어보이기만 했던 커스틴 ...      1\n",
            "...                                                   ...    ...\n",
            "149995                                인간이 문제지.. 소는 뭔죄인가..      0\n",
            "149996                                      평점이 너무 낮아서...      1\n",
            "149997                    이게 뭐요? 한국인은 거들먹거리고 필리핀 혼혈은 착하다?      0\n",
            "149998                        청춘 영화의 최고봉.방황과 우울했던 날들의 자화상      1\n",
            "149999                           한국 영화 최초로 수간하는 내용이 담긴 영화      0\n",
            "\n",
            "[150000 rows x 2 columns]\n"
          ]
        }
      ]
    },
    {
      "cell_type": "markdown",
      "source": [
        "## 누락 데이터 확인"
      ],
      "metadata": {
        "id": "vRvUJiPkSict"
      }
    },
    {
      "cell_type": "code",
      "source": [
        "### 전체 데이터프레임에 대한 누락 데이터 확인\n",
        "\n",
        "# isnull() 함수 사용\n",
        "df_bool = df2.isnull()\n",
        "print(f'각 컬럼에 대한 누락 여부 확인 \\n{df_bool}')\n",
        "\n",
        "print('-'*80)\n",
        "\n",
        "# isnull().sum() 함수 사용\n",
        "num_nulls = df2.isnull().sum()\n",
        "print(f'각 컬럼별 누락 데이터의 수 확인 : \\n{num_nulls}')"
      ],
      "metadata": {
        "colab": {
          "base_uri": "https://localhost:8080/"
        },
        "id": "ySOJ-1zuSmOJ",
        "outputId": "76cda637-d34f-4f84-bb3c-b39931387c99"
      },
      "execution_count": null,
      "outputs": [
        {
          "output_type": "stream",
          "name": "stdout",
          "text": [
            "각 컬럼에 대한 누락 여부 확인 \n",
            "           id  document  label\n",
            "0       False     False  False\n",
            "1       False     False  False\n",
            "2       False     False  False\n",
            "3       False     False  False\n",
            "4       False     False  False\n",
            "...       ...       ...    ...\n",
            "149995  False     False  False\n",
            "149996  False     False  False\n",
            "149997  False     False  False\n",
            "149998  False     False  False\n",
            "149999  False     False  False\n",
            "\n",
            "[150000 rows x 3 columns]\n",
            "--------------------------------------------------------------------------------\n",
            "각 컬럼별 누락 데이터의 수 확인 : \n",
            "id          0\n",
            "document    5\n",
            "label       0\n",
            "dtype: int64\n"
          ]
        }
      ]
    },
    {
      "cell_type": "code",
      "source": [
        "### 특정 컬럼에 대한 누락 데이터 확인\n",
        "\n",
        "# isull() 함수 사용\n",
        "se_bool = df2.loc[:,'document'].isnull()\n",
        "# df2.document.isnull()\n",
        "print(f'document 컬럼에 대한 누락 여부 확인 : \\n{se_bool}')\n",
        "\n",
        "print('-'*80)\n",
        "\n",
        "# isnulll().sum()\n",
        "num = df2.loc[:,'document'].isnull().sum()\n",
        "print(f'document 컬럼에 대한 누락 데이터의 수 = {num}개')"
      ],
      "metadata": {
        "colab": {
          "base_uri": "https://localhost:8080/"
        },
        "id": "LiiYvOeFSsrW",
        "outputId": "af7de694-cfa6-40e1-ea42-cdd1ad002cae"
      },
      "execution_count": null,
      "outputs": [
        {
          "output_type": "stream",
          "name": "stdout",
          "text": [
            "document 컬럼에 대한 누락 여부 확인 : \n",
            "0         False\n",
            "1         False\n",
            "2         False\n",
            "3         False\n",
            "4         False\n",
            "          ...  \n",
            "149995    False\n",
            "149996    False\n",
            "149997    False\n",
            "149998    False\n",
            "149999    False\n",
            "Name: document, Length: 150000, dtype: bool\n",
            "--------------------------------------------------------------------------------\n",
            "document 컬럼에 대한 누락 데이터의 수 = 5개\n"
          ]
        }
      ]
    },
    {
      "cell_type": "code",
      "source": [
        "### 보충 : boolean 자료형 데이터의 특성\n",
        "\n",
        "# 연산 : True → 1, False → 0\n",
        "sum = True + True + False\n",
        "print(f'블리언 자료형의 덧셈 연산의 결과 : {sum}')"
      ],
      "metadata": {
        "colab": {
          "base_uri": "https://localhost:8080/"
        },
        "id": "E5XfUjXsVrKl",
        "outputId": "4eae8e25-e854-4331-8412-48a783796031"
      },
      "execution_count": null,
      "outputs": [
        {
          "output_type": "stream",
          "name": "stdout",
          "text": [
            "블리언 자료형의 덧셈 연산의 결과 : 2\n"
          ]
        }
      ]
    },
    {
      "cell_type": "markdown",
      "source": [
        "## 누락 데이터 처리"
      ],
      "metadata": {
        "id": "oG4Nnz9rbBI7"
      }
    },
    {
      "cell_type": "code",
      "source": [
        "### dropna(subset=[], inplace, ignore_index=True ) 함수 사용\n",
        "df_cleaned = df2.dropna(ignore_index=True)\n",
        "\n",
        "# 결과 확인\n",
        "print(f'누락 데이터 제거 전 데이터 프레임 : \\n{df2}')\n",
        "print('-'*80)\n",
        "print(f'누락 데이터 제거 후 데이터 프레임 : \\n{df_cleaned}')"
      ],
      "metadata": {
        "colab": {
          "base_uri": "https://localhost:8080/"
        },
        "id": "AOlSTuN7bEsq",
        "outputId": "5230e21c-09d2-4b8a-a5df-52df4b93c945"
      },
      "execution_count": null,
      "outputs": [
        {
          "output_type": "stream",
          "name": "stdout",
          "text": [
            "누락 데이터 제거 전 데이터 프레임 : \n",
            "              id                                           document  label\n",
            "0        9976970                                아 더빙.. 진짜 짜증나네요 목소리      0\n",
            "1        3819312                  흠...포스터보고 초딩영화줄....오버연기조차 가볍지 않구나      1\n",
            "2       10265843                                  너무재밓었다그래서보는것을추천한다      0\n",
            "3        9045019                      교도소 이야기구먼 ..솔직히 재미는 없다..평점 조정      0\n",
            "4        6483659  사이몬페그의 익살스런 연기가 돋보였던 영화!스파이더맨에서 늙어보이기만 했던 커스틴 ...      1\n",
            "...          ...                                                ...    ...\n",
            "149995   6222902                                인간이 문제지.. 소는 뭔죄인가..      0\n",
            "149996   8549745                                      평점이 너무 낮아서...      1\n",
            "149997   9311800                    이게 뭐요? 한국인은 거들먹거리고 필리핀 혼혈은 착하다?      0\n",
            "149998   2376369                        청춘 영화의 최고봉.방황과 우울했던 날들의 자화상      1\n",
            "149999   9619869                           한국 영화 최초로 수간하는 내용이 담긴 영화      0\n",
            "\n",
            "[150000 rows x 3 columns]\n",
            "--------------------------------------------------------------------------------\n",
            "누락 데이터 제거 후 데이터 프레임 : \n",
            "              id                                           document  label\n",
            "0        9976970                                아 더빙.. 진짜 짜증나네요 목소리      0\n",
            "1        3819312                  흠...포스터보고 초딩영화줄....오버연기조차 가볍지 않구나      1\n",
            "2       10265843                                  너무재밓었다그래서보는것을추천한다      0\n",
            "3        9045019                      교도소 이야기구먼 ..솔직히 재미는 없다..평점 조정      0\n",
            "4        6483659  사이몬페그의 익살스런 연기가 돋보였던 영화!스파이더맨에서 늙어보이기만 했던 커스틴 ...      1\n",
            "...          ...                                                ...    ...\n",
            "149990   6222902                                인간이 문제지.. 소는 뭔죄인가..      0\n",
            "149991   8549745                                      평점이 너무 낮아서...      1\n",
            "149992   9311800                    이게 뭐요? 한국인은 거들먹거리고 필리핀 혼혈은 착하다?      0\n",
            "149993   2376369                        청춘 영화의 최고봉.방황과 우울했던 날들의 자화상      1\n",
            "149994   9619869                           한국 영화 최초로 수간하는 내용이 담긴 영화      0\n",
            "\n",
            "[149995 rows x 3 columns]\n"
          ]
        }
      ]
    }
  ]
}