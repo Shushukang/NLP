{
  "nbformat": 4,
  "nbformat_minor": 0,
  "metadata": {
    "colab": {
      "provenance": [],
      "toc_visible": true,
      "authorship_tag": "ABX9TyMkZI0q6xQI/UmdieDXNChM",
      "include_colab_link": true
    },
    "kernelspec": {
      "name": "python3",
      "display_name": "Python 3"
    },
    "language_info": {
      "name": "python"
    }
  },
  "cells": [
    {
      "cell_type": "markdown",
      "metadata": {
        "id": "view-in-github",
        "colab_type": "text"
      },
      "source": [
        "<a href=\"https://colab.research.google.com/github/Shushukang/NLP/blob/main/%EC%8B%A4%EC%8A%B506.ipynb\" target=\"_parent\"><img src=\"https://colab.research.google.com/assets/colab-badge.svg\" alt=\"Open In Colab\"/></a>"
      ]
    },
    {
      "cell_type": "code",
      "execution_count": null,
      "metadata": {
        "id": "-Srb48nhr7eX"
      },
      "outputs": [],
      "source": [
        "### 필요한 라이브러리 임폴트\n",
        "import tensorflow as tf\n",
        "import numpy as np\n",
        "# import random"
      ]
    },
    {
      "cell_type": "code",
      "source": [
        "### 랜덤 시드 설정\n",
        "tf.random.set_seed(0)"
      ],
      "metadata": {
        "id": "5QbhSLP68JLr"
      },
      "execution_count": null,
      "outputs": []
    },
    {
      "cell_type": "markdown",
      "source": [
        "# 단어 임베딩 행렬 생성"
      ],
      "metadata": {
        "id": "bkNXMc94r_hW"
      }
    },
    {
      "cell_type": "code",
      "source": [
        "### 실습용 데이터 생성\n",
        "\n",
        "'''\n",
        "1. sentence = \"I love you\"\n",
        "2. 토큰화 --> [I, love, you]\n",
        "3. 각 토큰 --> 512 차원의 임베딩 벡터로 변환  --> (3, 512) 임베딩 행렬 생성\n",
        "4. 표준 정규 분포로부터 랜덤한 실수 샘플링 --> (3, 512) 임베딩 행렬에 해당하는 데이터 생성\n",
        "'''\n",
        "\n",
        "# (3, 512) 임베딩 행렬에 해당하는 데이터 생성\n",
        "embedding_shape = (3,512)\n",
        "embedding_matrix = tf.random.normal(shape = embedding_shape)\n",
        "\n",
        "# 결과 확인하기\n",
        "print(embedding_matrix)"
      ],
      "metadata": {
        "colab": {
          "base_uri": "https://localhost:8080/"
        },
        "id": "IVaOKfU2sQum",
        "outputId": "6dc84921-5dd1-4b63-eeeb-253406164cb0"
      },
      "execution_count": null,
      "outputs": [
        {
          "output_type": "stream",
          "name": "stdout",
          "text": [
            "tf.Tensor(\n",
            "[[ 1.5110626   0.42292204 -0.41969493 ... -1.1673577   0.777814\n",
            "   0.58657396]\n",
            " [-0.13087033 -0.4497122   3.3774817  ...  0.2500961  -0.69026154\n",
            "  -0.8148735 ]\n",
            " [ 0.40156764  0.3129424  -0.87114996 ... -0.3053926   0.18731174\n",
            "  -1.6565207 ]], shape=(3, 512), dtype=float32)\n"
          ]
        }
      ]
    },
    {
      "cell_type": "markdown",
      "source": [
        "# 가중치 행렬 생성"
      ],
      "metadata": {
        "id": "-y_nOOfFHPUO"
      }
    },
    {
      "cell_type": "code",
      "source": [
        "### 가중치 행렬 W_q, W_k, W_v 생성\n",
        "\n",
        "'''\n",
        "1. 가중치 행렬 W_q, W_k, W_v의 모양 : (512, 512)\n",
        "2. 가중치 행렬의 초기 값 --> 랜덤한 실수로 설정\n",
        "3. 표준 정규 분포로부터 랜덤한 실수 샘플링 --> (512, 512) 가중치 행렬에 해당하는 데이터 W_q, W_k, W_v 생성\n",
        "'''\n",
        "\n",
        "# (512, 152*3) 모양의 가중치 행렬에 해당하는 데이터 생성\n",
        "weights_shape = (512, 512*3)\n",
        "W = tf.random.normal(shape=weights_shape)\n",
        "\n",
        "# 결과 확인하기\n",
        "print(W)"
      ],
      "metadata": {
        "colab": {
          "base_uri": "https://localhost:8080/"
        },
        "id": "JODc8AI53rqa",
        "outputId": "d7abe7b5-5869-47d4-a966-5bfa0982d551"
      },
      "execution_count": null,
      "outputs": [
        {
          "output_type": "stream",
          "name": "stdout",
          "text": [
            "tf.Tensor(\n",
            "[[ 1.0668802   0.19454929 -0.53082895 ...  0.28124705 -0.41999227\n",
            "  -1.731296  ]\n",
            " [-0.88284314  0.07581621  0.36982587 ... -0.98544943 -0.07025491\n",
            "  -0.35464865]\n",
            " [-1.4630128   1.008406    0.00408987 ...  2.3250976  -1.2281883\n",
            "  -0.36647767]\n",
            " ...\n",
            " [ 0.10821439 -0.23559454 -0.17931989 ... -0.1931868   0.06187644\n",
            "   0.02346488]\n",
            " [ 0.17702705  1.1367483   0.44510984 ...  0.46767908  2.3448489\n",
            "  -0.61274064]\n",
            " [-0.32561806  0.1451457  -0.6740147  ...  0.5818147  -1.1355666\n",
            "   0.1629009 ]], shape=(512, 1536), dtype=float32)\n"
          ]
        }
      ]
    },
    {
      "cell_type": "code",
      "source": [
        "### 가중치 행렬 W_q, W_k, W_v 추출\n",
        "W_q = W[:, 0:512]\n",
        "W_k = W[:, 512:1204]\n",
        "W_v = W[:, 1024:]\n",
        "\n",
        "# 결과 확인하기\n",
        "print(W_q)\n",
        "print('-'*80)\n",
        "print(W_k)\n",
        "print('-'*80)\n",
        "print(W_v)"
      ],
      "metadata": {
        "colab": {
          "base_uri": "https://localhost:8080/"
        },
        "id": "yHs5ODdl92vz",
        "outputId": "88df4e28-fcc4-4411-fe24-a6a99ecea266"
      },
      "execution_count": null,
      "outputs": [
        {
          "output_type": "stream",
          "name": "stdout",
          "text": [
            "tf.Tensor(\n",
            "[[ 1.0668802   0.19454929 -0.53082895 ...  1.245727    0.15457077\n",
            "   0.8158888 ]\n",
            " [-0.88284314  0.07581621  0.36982587 ...  1.4192551   0.05542991\n",
            "  -1.0262617 ]\n",
            " [-1.4630128   1.008406    0.00408987 ... -0.42333117 -1.147531\n",
            "  -0.22865014]\n",
            " ...\n",
            " [ 0.10821439 -0.23559454 -0.17931989 ... -1.1973188  -1.721341\n",
            "  -0.71973807]\n",
            " [ 0.17702705  1.1367483   0.44510984 ...  2.1946557   0.63261014\n",
            "  -1.2325677 ]\n",
            " [-0.32561806  0.1451457  -0.6740147  ...  0.69355434 -0.3900291\n",
            "   0.08229202]], shape=(512, 512), dtype=float32)\n",
            "--------------------------------------------------------------------------------\n",
            "tf.Tensor(\n",
            "[[ 1.1781547  -1.0898786   0.98570585 ...  0.01896639 -0.53865725\n",
            "   0.12272159]\n",
            " [-0.07226859  0.8808753   0.807439   ... -0.31135246 -0.33696178\n",
            "   0.23726879]\n",
            " [ 0.8329731  -0.27327135 -0.8017407  ... -1.9315009   0.5699578\n",
            "  -1.1604967 ]\n",
            " ...\n",
            " [ 0.8052585   0.28040078  1.6850793  ...  0.37750173 -0.21134175\n",
            "   0.27176344]\n",
            " [ 1.9855129  -0.63976276 -0.3220173  ...  0.37280685  1.5128739\n",
            "   0.17516819]\n",
            " [-0.10157913 -0.35132977 -1.1761794  ... -1.0184733   0.85660166\n",
            "  -0.8654578 ]], shape=(512, 692), dtype=float32)\n",
            "--------------------------------------------------------------------------------\n",
            "tf.Tensor(\n",
            "[[ 0.8790794   0.08454452 -0.92487997 ...  0.28124705 -0.41999227\n",
            "  -1.731296  ]\n",
            " [ 0.27882072  1.093656   -0.81600255 ... -0.98544943 -0.07025491\n",
            "  -0.35464865]\n",
            " [ 0.3920128  -1.7749121   0.49775362 ...  2.3250976  -1.2281883\n",
            "  -0.36647767]\n",
            " ...\n",
            " [-1.564057   -0.9591371  -1.0038805  ... -0.1931868   0.06187644\n",
            "   0.02346488]\n",
            " [ 0.6883451   2.18177    -1.321253   ...  0.46767908  2.3448489\n",
            "  -0.61274064]\n",
            " [-1.029892   -0.22561316 -0.78502685 ...  0.5818147  -1.1355666\n",
            "   0.1629009 ]], shape=(512, 512), dtype=float32)\n"
          ]
        }
      ]
    },
    {
      "cell_type": "markdown",
      "source": [
        "# q, k, v 행렬 생성"
      ],
      "metadata": {
        "id": "e4qzyTj0HaK-"
      }
    },
    {
      "cell_type": "code",
      "source": [
        "### q, k, v 생성\n",
        "\n",
        "\"\"\"\n",
        "### 전체 단어의 임베딩 행렬과 가중치 행렬의 행렬 곱 → 각 단어 별 q, k, v 벡터 생성\n",
        "\"\"\"\n",
        "\n",
        "# 전체 단어의 임베딩 행렬과 가중치 행렬의 행렬 곱\n",
        "qkv = tf.linalg.matmul(a=embedding_matrix, b=W)\n",
        "\n",
        "# 각 단어의 q, k, v 행렬 추출\n",
        "q = qkv[:, 0:512]\n",
        "k = qkv[:, 512:512*2]\n",
        "v = qkv[:, 512*2:512*3]\n",
        "\n",
        "# 결과 확인\n",
        "print(qkv)\n",
        "print('-'*80)\n",
        "print(q)\n",
        "print('-'*80)\n",
        "print(k)\n",
        "print('-'*80)\n",
        "print(v)"
      ],
      "metadata": {
        "colab": {
          "base_uri": "https://localhost:8080/"
        },
        "id": "X42IGGaP-zcs",
        "outputId": "a2821cb6-b409-482e-aa93-52d66d83e211"
      },
      "execution_count": null,
      "outputs": [
        {
          "output_type": "stream",
          "name": "stdout",
          "text": [
            "tf.Tensor(\n",
            "[[ 52.855316   -3.3651943  31.226112  ...  19.497292  -23.665293\n",
            "    7.7344437]\n",
            " [  9.105577  -18.511465  -21.972692  ...  63.532726   -0.5750847\n",
            "    6.839353 ]\n",
            " [ -2.2933378  15.658791  -27.894466  ...  12.54751    38.962685\n",
            "   -3.5825343]], shape=(3, 1536), dtype=float32)\n",
            "--------------------------------------------------------------------------------\n",
            "tf.Tensor(\n",
            "[[ 52.855316   -3.3651943  31.226112  ... -30.888561   31.74374\n",
            "   27.605654 ]\n",
            " [  9.105577  -18.511465  -21.972692  ... -36.2921    -13.293503\n",
            "   18.735483 ]\n",
            " [ -2.2933378  15.658791  -27.894466  ...  20.479921   28.057518\n",
            "   -6.0979385]], shape=(3, 512), dtype=float32)\n",
            "--------------------------------------------------------------------------------\n",
            "tf.Tensor(\n",
            "[[ -2.94004  -34.09545  -10.575945 ...  20.819622  18.779625  29.647951]\n",
            " [-10.883896  32.65699   38.728813 ...  11.901602 -11.612812  43.71332 ]\n",
            " [ 50.216934 -23.480341  16.782907 ...  30.11206   52.02745  -30.785648]], shape=(3, 512), dtype=float32)\n",
            "--------------------------------------------------------------------------------\n",
            "tf.Tensor(\n",
            "[[ -0.20964003  -6.5434694   27.89391    ...  19.497292   -23.665293\n",
            "    7.7344437 ]\n",
            " [-33.50708     27.014906    -2.748848   ...  63.532726    -0.5750847\n",
            "    6.839353  ]\n",
            " [  7.2099495   -4.2748957   15.560699   ...  12.54751     38.962685\n",
            "   -3.5825343 ]], shape=(3, 512), dtype=float32)\n"
          ]
        }
      ]
    },
    {
      "cell_type": "markdown",
      "source": [
        "# scaled_dot_product_attention"
      ],
      "metadata": {
        "id": "Gzm0MO6tHXRt"
      }
    },
    {
      "cell_type": "markdown",
      "source": [
        "## attention score"
      ],
      "metadata": {
        "id": "I07gyQFxHtTG"
      }
    },
    {
      "cell_type": "code",
      "source": [
        "attention_score = tf.linalg.matmul(a=q, b=k, transpose_b=True)\n",
        "print(f'attention_score : \\n{attention_score}')"
      ],
      "metadata": {
        "colab": {
          "base_uri": "https://localhost:8080/"
        },
        "id": "DIA1dmz_FENW",
        "outputId": "246343bd-c087-4b9f-f812-ca84de304c19"
      },
      "execution_count": null,
      "outputs": [
        {
          "output_type": "stream",
          "name": "stdout",
          "text": [
            "attention_score : \n",
            "[[-18987.393    6699.816   -9973.194 ]\n",
            " [ 20949.951   21679.52     1974.8209]\n",
            " [  3651.587   23628.8     -6038.9497]]\n"
          ]
        }
      ]
    },
    {
      "cell_type": "markdown",
      "source": [
        "## scaling"
      ],
      "metadata": {
        "id": "1Ioftq2ZLTfP"
      }
    },
    {
      "cell_type": "code",
      "source": [
        "print(k.shape[1])"
      ],
      "metadata": {
        "colab": {
          "base_uri": "https://localhost:8080/"
        },
        "id": "12t8eq0OMLYn",
        "outputId": "0a660eb1-83e9-4f32-c349-b30ad7eb9dc3"
      },
      "execution_count": null,
      "outputs": [
        {
          "output_type": "stream",
          "name": "stdout",
          "text": [
            "512\n"
          ]
        }
      ]
    },
    {
      "cell_type": "code",
      "source": [
        "dk = k.shape[1]\n",
        "dk = tf.cast(dk, tf.float32)\n",
        "scaled_attention_score = attention_score / tf.math.sqrt(dk)\n",
        "print(f'scaled_attention_score \" \\n{scaled_attention_score}')"
      ],
      "metadata": {
        "colab": {
          "base_uri": "https://localhost:8080/"
        },
        "id": "cAAPHINaL8Zo",
        "outputId": "81802ef8-478c-4a21-efaf-e3b6e193e13b"
      },
      "execution_count": null,
      "outputs": [
        {
          "output_type": "stream",
          "name": "stdout",
          "text": [
            "scaled_attention_score \" \n",
            "[[-839.13214  296.09283 -440.75708]\n",
            " [ 925.8658   958.10846   87.27558]\n",
            " [ 161.37888 1044.2554  -266.88638]]\n"
          ]
        }
      ]
    },
    {
      "cell_type": "markdown",
      "source": [
        "## attention weight"
      ],
      "metadata": {
        "id": "6iN4vySdOcXR"
      }
    },
    {
      "cell_type": "code",
      "source": [
        "attention_weight = tf.nn.softmax(scaled_attention_score)\n",
        "print(f'attention_weight : \\n{attention_weight}')"
      ],
      "metadata": {
        "colab": {
          "base_uri": "https://localhost:8080/"
        },
        "id": "blnRJ9DrUDoS",
        "outputId": "fa6fd973-dc9d-4e27-f4a0-80dbb4be7c14"
      },
      "execution_count": null,
      "outputs": [
        {
          "output_type": "stream",
          "name": "stdout",
          "text": [
            "attention_weight : \n",
            "[[0.0000000e+00 1.0000000e+00 0.0000000e+00]\n",
            " [9.9353644e-15 1.0000000e+00 0.0000000e+00]\n",
            " [0.0000000e+00 1.0000000e+00 0.0000000e+00]]\n"
          ]
        }
      ]
    },
    {
      "cell_type": "markdown",
      "source": [
        "## attention output : contextual embedding vector"
      ],
      "metadata": {
        "id": "MGfJuVOTaFwM"
      }
    },
    {
      "cell_type": "code",
      "source": [
        "output = tf.linalg.matmul(a= attention_weight, b=v)\n",
        "print(f'output : \\n{output}')"
      ],
      "metadata": {
        "colab": {
          "base_uri": "https://localhost:8080/"
        },
        "id": "ej20gD-UaIvc",
        "outputId": "9eea7436-356a-4bf6-af90-2577313bb6b1"
      },
      "execution_count": null,
      "outputs": [
        {
          "output_type": "stream",
          "name": "stdout",
          "text": [
            "output : \n",
            "[[-33.50708    27.014906   -2.748848  ...  63.532726   -0.5750847\n",
            "    6.839353 ]\n",
            " [-33.50708    27.014906   -2.748848  ...  63.532726   -0.5750847\n",
            "    6.839353 ]\n",
            " [-33.50708    27.014906   -2.748848  ...  63.532726   -0.5750847\n",
            "    6.839353 ]]\n"
          ]
        }
      ]
    }
  ]
}